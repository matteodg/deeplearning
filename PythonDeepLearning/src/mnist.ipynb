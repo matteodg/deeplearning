{
 "cells": [
  {
   "cell_type": "code",
   "execution_count": 1,
   "metadata": {},
   "outputs": [
    {
     "name": "stderr",
     "output_type": "stream",
     "text": [
      "Using TensorFlow backend.\n"
     ]
    }
   ],
   "source": [
    "from __future__ import print_function\n",
    "\n",
    "import keras\n",
    "from keras.datasets import mnist\n",
    "from keras.models import Sequential\n",
    "from keras.layers import Dense, Dropout\n",
    "from keras.optimizers import RMSprop\n",
    "import matplotlib.pyplot as plt \n",
    "\n",
    "batch_size = 128\n",
    "num_classes = 10\n",
    "epochs = 20"
   ]
  },
  {
   "cell_type": "code",
   "execution_count": 2,
   "metadata": {},
   "outputs": [
    {
     "name": "stdout",
     "output_type": "stream",
     "text": [
      "60000 train samples\n",
      "10000 test samples\n"
     ]
    }
   ],
   "source": [
    "\n",
    "# the data, shuffled and split between train and test sets\n",
    "(x_train, y_train), (x_test, y_test) = mnist.load_data()\n",
    "\n",
    "x_train = x_train.reshape(60000, 784)\n",
    "x_test = x_test.reshape(10000, 784)\n",
    "x_train = x_train.astype('float32')\n",
    "x_test = x_test.astype('float32')\n",
    "x_train /= 255\n",
    "x_test /= 255\n",
    "print(x_train.shape[0], 'train samples')\n",
    "print(x_test.shape[0], 'test samples')\n",
    "\n",
    "# convert class vectors to binary class matrices\n",
    "y_train = keras.utils.to_categorical(y_train, num_classes)\n",
    "y_test = keras.utils.to_categorical(y_test, num_classes)"
   ]
  },
  {
   "cell_type": "code",
   "execution_count": 3,
   "metadata": {},
   "outputs": [
    {
     "name": "stdout",
     "output_type": "stream",
     "text": [
      "_________________________________________________________________\n",
      "Layer (type)                 Output Shape              Param #   \n",
      "=================================================================\n",
      "dense_1 (Dense)              (None, 512)               401920    \n",
      "_________________________________________________________________\n",
      "dropout_1 (Dropout)          (None, 512)               0         \n",
      "_________________________________________________________________\n",
      "dense_2 (Dense)              (None, 512)               262656    \n",
      "_________________________________________________________________\n",
      "dropout_2 (Dropout)          (None, 512)               0         \n",
      "_________________________________________________________________\n",
      "dense_3 (Dense)              (None, 10)                5130      \n",
      "=================================================================\n",
      "Total params: 669,706\n",
      "Trainable params: 669,706\n",
      "Non-trainable params: 0\n",
      "_________________________________________________________________\n"
     ]
    }
   ],
   "source": [
    "model = Sequential()\n",
    "model.add(Dense(512, activation='relu', input_shape=(784,)))\n",
    "model.add(Dropout(0.2))\n",
    "model.add(Dense(512, activation='relu'))\n",
    "model.add(Dropout(0.2))\n",
    "model.add(Dense(10, activation='softmax'))\n",
    "\n",
    "model.summary()"
   ]
  },
  {
   "cell_type": "code",
   "execution_count": 4,
   "metadata": {},
   "outputs": [
    {
     "name": "stdout",
     "output_type": "stream",
     "text": [
      "Train on 60000 samples, validate on 10000 samples\n",
      "Epoch 1/20\n",
      "60000/60000 [==============================] - 5s 83us/step - loss: 0.2501 - acc: 0.9222 - val_loss: 0.0987 - val_acc: 0.9692\n",
      "Epoch 2/20\n",
      "60000/60000 [==============================] - 3s 45us/step - loss: 0.1013 - acc: 0.9692 - val_loss: 0.1008 - val_acc: 0.9695\n",
      "Epoch 3/20\n",
      "60000/60000 [==============================] - 3s 47us/step - loss: 0.0750 - acc: 0.9775 - val_loss: 0.0809 - val_acc: 0.9752\n",
      "Epoch 4/20\n",
      "60000/60000 [==============================] - 3s 45us/step - loss: 0.0618 - acc: 0.9818 - val_loss: 0.0765 - val_acc: 0.9774\n",
      "Epoch 5/20\n",
      "60000/60000 [==============================] - 3s 45us/step - loss: 0.0505 - acc: 0.9849 - val_loss: 0.0816 - val_acc: 0.9785\n",
      "Epoch 6/20\n",
      "60000/60000 [==============================] - 3s 46us/step - loss: 0.0424 - acc: 0.9873 - val_loss: 0.0803 - val_acc: 0.9790\n",
      "Epoch 7/20\n",
      "60000/60000 [==============================] - 3s 45us/step - loss: 0.0384 - acc: 0.9886 - val_loss: 0.0872 - val_acc: 0.9801\n",
      "Epoch 8/20\n",
      "60000/60000 [==============================] - 3s 45us/step - loss: 0.0348 - acc: 0.9898 - val_loss: 0.0795 - val_acc: 0.9822\n",
      "Epoch 9/20\n",
      "60000/60000 [==============================] - 3s 47us/step - loss: 0.0307 - acc: 0.9909 - val_loss: 0.0840 - val_acc: 0.9815\n",
      "Epoch 10/20\n",
      "60000/60000 [==============================] - 3s 50us/step - loss: 0.0311 - acc: 0.9915 - val_loss: 0.0971 - val_acc: 0.9809\n",
      "Epoch 11/20\n",
      "60000/60000 [==============================] - 3s 52us/step - loss: 0.0255 - acc: 0.9925 - val_loss: 0.0878 - val_acc: 0.9815\n",
      "Epoch 12/20\n",
      "60000/60000 [==============================] - 3s 48us/step - loss: 0.0267 - acc: 0.9922 - val_loss: 0.0922 - val_acc: 0.9835\n",
      "Epoch 13/20\n",
      "60000/60000 [==============================] - 3s 52us/step - loss: 0.0226 - acc: 0.9936 - val_loss: 0.1034 - val_acc: 0.9820\n",
      "Epoch 14/20\n",
      "60000/60000 [==============================] - 3s 49us/step - loss: 0.0229 - acc: 0.9934 - val_loss: 0.0977 - val_acc: 0.9835\n",
      "Epoch 15/20\n",
      "60000/60000 [==============================] - 3s 47us/step - loss: 0.0225 - acc: 0.9943 - val_loss: 0.0925 - val_acc: 0.9829\n",
      "Epoch 16/20\n",
      "60000/60000 [==============================] - 3s 46us/step - loss: 0.0207 - acc: 0.9943 - val_loss: 0.0973 - val_acc: 0.9829\n",
      "Epoch 17/20\n",
      "60000/60000 [==============================] - 3s 45us/step - loss: 0.0209 - acc: 0.9944 - val_loss: 0.1222 - val_acc: 0.9813\n",
      "Epoch 18/20\n",
      "60000/60000 [==============================] - 3s 46us/step - loss: 0.0182 - acc: 0.9951 - val_loss: 0.1267 - val_acc: 0.9809\n",
      "Epoch 19/20\n",
      "60000/60000 [==============================] - 3s 46us/step - loss: 0.0202 - acc: 0.9950 - val_loss: 0.1146 - val_acc: 0.9829\n",
      "Epoch 20/20\n",
      "60000/60000 [==============================] - 3s 46us/step - loss: 0.0180 - acc: 0.9952 - val_loss: 0.1300 - val_acc: 0.9814\n"
     ]
    }
   ],
   "source": [
    "\n",
    "model.compile(loss='categorical_crossentropy',\n",
    "              optimizer=RMSprop(),\n",
    "              metrics=['accuracy'])\n",
    "\n",
    "history = model.fit(x_train, y_train,\n",
    "                    batch_size=batch_size,\n",
    "                    epochs=epochs,\n",
    "                    verbose=True,\n",
    "                    validation_data=(x_test, y_test))"
   ]
  },
  {
   "cell_type": "code",
   "execution_count": 5,
   "metadata": {},
   "outputs": [
    {
     "data": {
      "text/plain": [
       "<keras.callbacks.History at 0x2acfcec1c50>"
      ]
     },
     "execution_count": 5,
     "metadata": {},
     "output_type": "execute_result"
    }
   ],
   "source": [
    "history"
   ]
  },
  {
   "cell_type": "code",
   "execution_count": 6,
   "metadata": {},
   "outputs": [
    {
     "data": {
      "image/png": "[encoded data removed]",
      "text/plain": [
       "<Figure size 432x288 with 1 Axes>"
      ]
     },
     "metadata": {
      "needs_background": "light"
     },
     "output_type": "display_data"
    }
   ],
   "source": [
    "# Create the plot\n",
    "plt.plot(history.history['val_loss'], 'r', history.history['val_acc'], 'b')\n",
    "plt.xlabel('Epochs')\n",
    "plt.ylabel('Validation score')\n",
    "plt.show()"
   ]
  },
  {
   "cell_type": "code",
   "execution_count": 7,
   "metadata": {},
   "outputs": [
    {
     "name": "stdout",
     "output_type": "stream",
     "text": [
      "Test loss: 0.12996277147308669\n",
      "Test accuracy: 0.9814\n"
     ]
    }
   ],
   "source": [
    "score = model.evaluate(x_test, y_test, verbose=0)\n",
    "\n",
    "print('Test loss:', score[0])\n",
    "print('Test accuracy:', score[1])"
   ]
  },
  {
   "cell_type": "code",
   "execution_count": 10,
   "metadata": {},
   "outputs": [
    {
     "name": "stdout",
     "output_type": "stream",
     "text": [
      "Saved model to disk\n"
     ]
    }
   ],
   "source": [
    "# serialize model to JSON\n",
    "model_digit_json = model.to_json()\n",
    "with open(\"mnist_mlp.json\", \"w\") as json_file:\n",
    "    json_file.write(model_digit_json)\n",
    "# serialize weights to HDF5\n",
    "model.save_weights(\"mnist_mlp.h5\")\n",
    "print(\"Saved model to disk\")"
   ]
  }
 ],
 "metadata": {
  "kernelspec": {
   "display_name": "Python 3",
   "language": "python",
   "name": "python3"
  },
  "language_info": {
   "codemirror_mode": {
    "name": "ipython",
    "version": 3
   },
   "file_extension": ".py",
   "mimetype": "text/x-python",
   "name": "python",
   "nbconvert_exporter": "python",
   "pygments_lexer": "ipython3",
   "version": "3.6.8"
  }
 },
 "nbformat": 4,
 "nbformat_minor": 2
}
